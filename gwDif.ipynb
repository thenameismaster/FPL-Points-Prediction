{
 "cells": [
  {
   "cell_type": "code",
   "execution_count": 1,
   "id": "79c59aa0",
   "metadata": {},
   "outputs": [
    {
     "name": "stdout",
     "output_type": "stream",
     "text": [
      "Crystal Palace 29\n",
      "Man City 33\n",
      "Newcastle 33\n",
      "West Ham 33\n",
      "Chelsea 33\n",
      "Aston Villa 34\n",
      "Nott'm Forest 34\n",
      "Fulham 34\n",
      "Bournemouth 34\n",
      "Arsenal 34\n",
      "Everton 34\n",
      "Liverpool 34\n",
      "Man Utd 34\n",
      "Leeds 35\n",
      "Southampton 36\n",
      "Leicester 36\n",
      "Brighton 36\n",
      "Wolves 37\n",
      "Spurs 37\n",
      "Brentford 37\n"
     ]
    }
   ],
   "source": [
    "\"\"\"\n",
    "List teams based on the combined difficulty of fixtures between\n",
    "GAME_WEEK_START and GAME_WEEK_END\n",
    "Lower number means easier fixtures\n",
    "\"\"\"\n",
    "\n",
    "import json\n",
    "from get_data import get_player_data, get_fixtures_data\n",
    "\n",
    "GAME_WEEK_START = 8\n",
    "GAME_WEEK_END = 20\n",
    "\n",
    "data_file = get_player_data(False)\n",
    "fixtures_file = get_fixtures_data()\n",
    "\n",
    "with open(fixtures_file) as fixtures, open(data_file) as data:\n",
    "\n",
    "    # get fixture difficulties for each team id\n",
    "    fixtures_data = json.load(fixtures)\n",
    "    data_dict = dict()\n",
    "\n",
    "    for event in fixtures_data:\n",
    "        if isinstance(event['event'], int):\n",
    "            if GAME_WEEK_START <= event['event'] <= GAME_WEEK_END:\n",
    "                if event['team_h'] in data_dict:\n",
    "                    data_dict[event['team_h']] += event['team_h_difficulty']\n",
    "                else:\n",
    "                    data_dict[event['team_h']] = event['team_h_difficulty']\n",
    "\n",
    "                if event['team_a'] in data_dict:\n",
    "                    data_dict[event['team_a']] += event['team_a_difficulty']\n",
    "                else:\n",
    "                    data_dict[event['team_a']] = event['team_a_difficulty']\n",
    "\n",
    "    # convert team ids to names\n",
    "    json_data = json.load(data)\n",
    "    team_dict = dict()\n",
    "\n",
    "    for team_id, difficulty in data_dict.items():\n",
    "        for team in json_data['teams']:\n",
    "            if team['id'] == team_id:\n",
    "                team_dict[team['name']] = difficulty\n",
    "                continue\n",
    "\n",
    "# sort by difficulty\n",
    "team_dict_sorted = {r: team_dict[r] for r in sorted(team_dict, key=team_dict.get)}\n",
    "\n",
    "for attribute, value in team_dict_sorted.items():\n",
    "    print(attribute, value)"
   ]
  },
  {
   "cell_type": "code",
   "execution_count": null,
   "id": "81889f02",
   "metadata": {},
   "outputs": [],
   "source": []
  }
 ],
 "metadata": {
  "kernelspec": {
   "display_name": "Python 3 (ipykernel)",
   "language": "python",
   "name": "python3"
  },
  "language_info": {
   "codemirror_mode": {
    "name": "ipython",
    "version": 3
   },
   "file_extension": ".py",
   "mimetype": "text/x-python",
   "name": "python",
   "nbconvert_exporter": "python",
   "pygments_lexer": "ipython3",
   "version": "3.9.12"
  }
 },
 "nbformat": 4,
 "nbformat_minor": 5
}
